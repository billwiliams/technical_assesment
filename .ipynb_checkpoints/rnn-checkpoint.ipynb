{
 "cells": [
  {
   "cell_type": "markdown",
   "metadata": {},
   "source": [
    "### Recurrent Neural Networks\n",
    "\n",
    "``` Predicting the number of buses to be added to a fleet```"
   ]
  },
  {
   "cell_type": "markdown",
   "metadata": {},
   "source": [
    "#### importing the neccesary libraries"
   ]
  },
  {
   "cell_type": "code",
   "execution_count": 1,
   "metadata": {
    "collapsed": false
   },
   "outputs": [
    {
     "name": "stderr",
     "output_type": "stream",
     "text": [
      "Using TensorFlow backend.\n"
     ]
    }
   ],
   "source": [
    "%matplotlib inline\n",
    "import numpy as np\n",
    "import pandas as pd\n",
    "import matplotlib.pyplot as plt\n",
    "import string\n",
    "import re\n",
    "from keras.models import Sequential\n",
    "from keras.layers import Dense\n",
    "from keras.layers import LSTM\n",
    "from sklearn.preprocessing import MinMaxScaler\n",
    "from sklearn.metrics import mean_squared_error\n",
    "from sklearn.model_selection import train_test_split"
   ]
  },
  {
   "cell_type": "markdown",
   "metadata": {},
   "source": [
    "``` Load the data from the csv and visualize the general outlook ```"
   ]
  },
  {
   "cell_type": "code",
   "execution_count": 2,
   "metadata": {
    "collapsed": false
   },
   "outputs": [
    {
     "data": {
      "text/html": [
       "<div>\n",
       "<table border=\"1\" class=\"dataframe\">\n",
       "  <thead>\n",
       "    <tr style=\"text-align: right;\">\n",
       "      <th></th>\n",
       "      <th>Number Plate</th>\n",
       "      <th>Fleet Number</th>\n",
       "    </tr>\n",
       "  </thead>\n",
       "  <tbody>\n",
       "    <tr>\n",
       "      <th>0</th>\n",
       "      <td>KBW</td>\n",
       "      <td>548P</td>\n",
       "    </tr>\n",
       "    <tr>\n",
       "      <th>1</th>\n",
       "      <td>KBU</td>\n",
       "      <td>282P</td>\n",
       "    </tr>\n",
       "    <tr>\n",
       "      <th>2</th>\n",
       "      <td>KBQ</td>\n",
       "      <td>844U</td>\n",
       "    </tr>\n",
       "    <tr>\n",
       "      <th>3</th>\n",
       "      <td>KBX</td>\n",
       "      <td>535W</td>\n",
       "    </tr>\n",
       "    <tr>\n",
       "      <th>4</th>\n",
       "      <td>KBU</td>\n",
       "      <td>838W</td>\n",
       "    </tr>\n",
       "  </tbody>\n",
       "</table>\n",
       "</div>"
      ],
      "text/plain": [
       "  Number Plate Fleet Number\n",
       "0          KBW         548P\n",
       "1          KBU         282P\n",
       "2          KBQ         844U\n",
       "3          KBX         535W\n",
       "4          KBU         838W"
      ]
     },
     "execution_count": 2,
     "metadata": {},
     "output_type": "execute_result"
    }
   ],
   "source": [
    "data=pd.read_csv('data/fleet.csv')\n",
    "data.head()"
   ]
  },
  {
   "cell_type": "markdown",
   "metadata": {},
   "source": [
    "``` View the attributes of the data ```"
   ]
  },
  {
   "cell_type": "code",
   "execution_count": 3,
   "metadata": {
    "collapsed": false
   },
   "outputs": [
    {
     "data": {
      "text/html": [
       "<div>\n",
       "<table border=\"1\" class=\"dataframe\">\n",
       "  <thead>\n",
       "    <tr style=\"text-align: right;\">\n",
       "      <th></th>\n",
       "      <th>Number Plate</th>\n",
       "      <th>Fleet Number</th>\n",
       "    </tr>\n",
       "  </thead>\n",
       "  <tbody>\n",
       "    <tr>\n",
       "      <th>count</th>\n",
       "      <td>60</td>\n",
       "      <td>60</td>\n",
       "    </tr>\n",
       "    <tr>\n",
       "      <th>unique</th>\n",
       "      <td>30</td>\n",
       "      <td>60</td>\n",
       "    </tr>\n",
       "    <tr>\n",
       "      <th>top</th>\n",
       "      <td>KBP</td>\n",
       "      <td>377G</td>\n",
       "    </tr>\n",
       "    <tr>\n",
       "      <th>freq</th>\n",
       "      <td>6</td>\n",
       "      <td>1</td>\n",
       "    </tr>\n",
       "  </tbody>\n",
       "</table>\n",
       "</div>"
      ],
      "text/plain": [
       "       Number Plate Fleet Number\n",
       "count            60           60\n",
       "unique           30           60\n",
       "top             KBP         377G\n",
       "freq              6            1"
      ]
     },
     "execution_count": 3,
     "metadata": {},
     "output_type": "execute_result"
    }
   ],
   "source": [
    "data.describe()"
   ]
  },
  {
   "cell_type": "markdown",
   "metadata": {},
   "source": [
    "``` From the data we can see that there are 60 instances of the number plates with 30\n",
    "unique ones for the fleet number we dont expect any duplicates as indicated by the data. we  plot the frequency each occurs ```"
   ]
  },
  {
   "cell_type": "code",
   "execution_count": 4,
   "metadata": {
    "collapsed": false
   },
   "outputs": [
    {
     "data": {
      "text/plain": [
       "<matplotlib.axes._subplots.AxesSubplot at 0x1d4c417c438>"
      ]
     },
     "execution_count": 4,
     "metadata": {},
     "output_type": "execute_result"
    },
    {
     "data": {
      "image/png": "[encoded data removed]",
      "text/plain": [
       "<matplotlib.figure.Figure at 0x1d4c417c128>"
      ]
     },
     "metadata": {},
     "output_type": "display_data"
    }
   ],
   "source": [
    "fig, ax = plt.subplots(figsize=(12, 8))\n",
    "data['Number Plate'].value_counts().plot(ax=ax, kind='bar')"
   ]
  },
  {
   "cell_type": "markdown",
   "metadata": {},
   "source": [
    "``` we can sort the data based on the number plates and make a new data frame```"
   ]
  },
  {
   "cell_type": "code",
   "execution_count": 5,
   "metadata": {
    "collapsed": false
   },
   "outputs": [
    {
     "data": {
      "text/html": [
       "<div>\n",
       "<table border=\"1\" class=\"dataframe\">\n",
       "  <thead>\n",
       "    <tr style=\"text-align: right;\">\n",
       "      <th></th>\n",
       "      <th>Number Plate</th>\n",
       "      <th>Fleet Number</th>\n",
       "    </tr>\n",
       "  </thead>\n",
       "  <tbody>\n",
       "    <tr>\n",
       "      <th>0</th>\n",
       "      <td>KAR</td>\n",
       "      <td>834Z</td>\n",
       "    </tr>\n",
       "    <tr>\n",
       "      <th>1</th>\n",
       "      <td>KAT</td>\n",
       "      <td>575Q</td>\n",
       "    </tr>\n",
       "    <tr>\n",
       "      <th>2</th>\n",
       "      <td>KAV</td>\n",
       "      <td>625X</td>\n",
       "    </tr>\n",
       "    <tr>\n",
       "      <th>3</th>\n",
       "      <td>KAW</td>\n",
       "      <td>624G</td>\n",
       "    </tr>\n",
       "    <tr>\n",
       "      <th>4</th>\n",
       "      <td>KAX</td>\n",
       "      <td>693P</td>\n",
       "    </tr>\n",
       "  </tbody>\n",
       "</table>\n",
       "</div>"
      ],
      "text/plain": [
       "  Number Plate Fleet Number\n",
       "0          KAR         834Z\n",
       "1          KAT         575Q\n",
       "2          KAV         625X\n",
       "3          KAW         624G\n",
       "4          KAX         693P"
      ]
     },
     "execution_count": 5,
     "metadata": {},
     "output_type": "execute_result"
    }
   ],
   "source": [
    "sorted_by_number_plates=data.copy()\n",
    "sorted_by_number_plates.sort_values('Number Plate',inplace=True, ascending=True)\n",
    "sorted_by_number_plates=sorted_by_number_plates.reset_index(drop=True)\n",
    "sorted_by_number_plates.head()"
   ]
  },
  {
   "cell_type": "markdown",
   "metadata": {},
   "source": [
    "#### get the number of KA* KB* and KC* plates"
   ]
  },
  {
   "cell_type": "code",
   "execution_count": 6,
   "metadata": {
    "collapsed": false
   },
   "outputs": [
    {
     "data": {
      "image/png": "[encoded data removed]",
      "text/plain": [
       "<matplotlib.figure.Figure at 0x1d4c41c0320>"
      ]
     },
     "metadata": {},
     "output_type": "display_data"
    }
   ],
   "source": [
    "k_a_cars=sorted_by_number_plates['Number Plate'].apply(lambda x: re.findall(\"KA[a-zA-Z]+\" ,x,re.M | re.I))\n",
    "k_b_cars=sorted_by_number_plates['Number Plate'].apply(lambda x: re.findall(\"KB[a-zA-Z]+\" ,x,re.M | re.I))\n",
    "k_c_cars=sorted_by_number_plates['Number Plate'].apply(lambda x: re.findall(\"KC[a-zA-Z]+\" ,x,re.M | re.I))\n",
    "\n",
    "k_a_cars=[x for x in k_a_cars if x]\n",
    "k_b_cars=[x for x in k_b_cars if x]\n",
    "k_c_cars=[x for x in k_c_cars if x]\n",
    "\n",
    "\n",
    "fig, ax = plt.subplots(figsize=(12, 8))\n",
    "objects = ('KA*', 'KB*', 'KC*')\n",
    "y_pos = np.arange(len(objects))\n",
    "count = [len(k_a_cars),len(k_b_cars),len(k_c_cars)]\n",
    "plt.bar(y_pos, count, align='center', alpha=0.5)\n",
    "plt.xticks(y_pos, objects)\n",
    "plt.ylabel('Number of vehicles')\n",
    "plt.title('Vehicles in distinct number plates')\n",
    " \n",
    "plt.show()"
   ]
  },
  {
   "cell_type": "markdown",
   "metadata": {},
   "source": [
    "##### from wikipedia\n",
    "\n",
    "```The second generation was started in 1989. The series follow KAA 001A to KAZ 999Z The present KAA xxx A series had, the advantage being that each third letter of the number provided for 23,976 registrations instead of the previous 999. Hence for ```\n",
    "\n",
    "based on this information and assuming an 18% increase in year on year sales we can determine which years KA* cars were bought."
   ]
  },
  {
   "cell_type": "code",
   "execution_count": 7,
   "metadata": {
    "collapsed": true
   },
   "outputs": [],
   "source": [
    "total_number_of_cars = 675324\n",
    "percentage_increase=0.18 #18%\n",
    "number_of_years=17 # from 1989 to 2006 when the KA* series ended\n",
    "\n",
    "\n"
   ]
  },
  {
   "cell_type": "markdown",
   "metadata": {},
   "source": [
    "We can use the compound interest formula to compute which year a certain bus was bought\n",
    "P[1+I]^T -1=Total Value\n",
    "we can get P--> the principle value which in our case is the cars that were sold in 1989"
   ]
  },
  {
   "cell_type": "code",
   "execution_count": 8,
   "metadata": {
    "collapsed": false
   },
   "outputs": [
    {
     "data": {
      "text/plain": [
       "40505.9388794272"
      ]
     },
     "execution_count": 8,
     "metadata": {},
     "output_type": "execute_result"
    }
   ],
   "source": [
    "cars_sold_in_1989=(total_number_of_cars +1) /((1+percentage_increase)**number_of_years)\n",
    "cars_sold_in_1989"
   ]
  },
  {
   "cell_type": "markdown",
   "metadata": {},
   "source": [
    "around 40505 cars were sold in 1989"
   ]
  },
  {
   "cell_type": "markdown",
   "metadata": {},
   "source": [
    "##### given our number plates we can calculate the value held by it to determine which year  it was added to fleet\n",
    "\n",
    "#### Methods used here are the ones used in assignment 2 "
   ]
  },
  {
   "cell_type": "code",
   "execution_count": 9,
   "metadata": {
    "collapsed": false
   },
   "outputs": [],
   "source": [
    "def vehicles_in_a_number_plate(list_a, multiplying_factors):\n",
    "    \"\"\"\n",
    "    Return number of vehicles within the given plates\n",
    "        :param list_a: A list of numbers\n",
    "        :param multiplying_factors: a list of numbers\n",
    "        :type list_a: list\n",
    "        :type multiplying_factors: list\n",
    "        :returns: a list with number of vehicles per number plate character\n",
    "        :rtype: list\n",
    "    \"\"\"\n",
    "    return [x1 * x2 for (x1, x2) in zip(list_a, multiplying_factors)]\n",
    "\n",
    "\n",
    "def plate_characters(number_plate):\n",
    "    \"\"\"\n",
    "        Return characters in a number plate\n",
    "        :param number_plate: A list of numbers\n",
    "        :type number_plate: list\n",
    "        :returns: a list of characters in a number plate\n",
    "        :rtype: list\n",
    "    \"\"\"\n",
    "    return ''.join(re.findall(\"[a-zA-Z]+\", number_plate, re.M | re.I))\n",
    "\n",
    "def plate_digits(number_plate):\n",
    "    \"\"\"\n",
    "            Return characters in a number plate\n",
    "            :param number_plate: A list of string\n",
    "            :type number_plate: list\n",
    "            :returns: a list of  digits in  a number plate\n",
    "            :rtype: list\n",
    "    \"\"\"\n",
    "    return ''.join(re.findall(\"\\d{3}\", number_plate, re.M | re.I))"
   ]
  },
  {
   "cell_type": "markdown",
   "metadata": {},
   "source": [
    "#### method to calculate the Number plate value. Using this value we can compute which year the car was added to the fleet\n",
    "the assumption made is that the vehicles were bought brand new hence vehicles which were sold at the same year happen to be added to the fleet\n",
    "the same year"
   ]
  },
  {
   "cell_type": "code",
   "execution_count": 10,
   "metadata": {
    "collapsed": false
   },
   "outputs": [],
   "source": [
    "def get_vehicle_plate_value(number_plate):\n",
    "        number_plate_a= number_plate.lower()\n",
    "        characters = sorted(set(string.ascii_letters.lower()))\n",
    "        # map characters to the numeric equivalent in integers\n",
    "        mapped_characters = dict(zip(characters, [ord(character) % 32 for character in characters]))\n",
    "        # obtain the character and digit parts of the number plate\n",
    "        number_plate_characters_a = plate_characters(number_plate_a)\n",
    "        number_plate_digits_a = plate_digits(number_plate_a)\n",
    "        # change the character part into number to compute changes\n",
    "        reversed_character_maps=dict(zip(string.ascii_lowercase,range(len(string.ascii_lowercase),0,-1)))#chr(range(len(string.ascii_lowercase),0,-1))\n",
    "        reversed_character_maps={a:chr(b+96) for a,b in reversed_character_maps.items()}\n",
    "        number_plate_characters_a= number_plate_characters_a[:3] +reversed_character_maps[number_plate_characters_a[3]]\n",
    "\n",
    "        list_a = [mapped_characters[c] for c in number_plate_characters_a]\n",
    "       \n",
    "        # get the total number of vehicles in  each character of the number plate\n",
    "        multiplying_factors = [0, 0, 25974, 999]\n",
    "        plate_a_total_vehicles = vehicles_in_a_number_plate(list_a, multiplying_factors)\n",
    "\n",
    "        # since from KC->KB there are 675324 we subtract the other values to get actual vehicles\n",
    "        plate_a_vehicles =plate_a_total_vehicles[2]- plate_a_total_vehicles[3] +int(number_plate_digits_a)\n",
    "        return plate_a_vehicles"
   ]
  },
  {
   "cell_type": "code",
   "execution_count": 11,
   "metadata": {
    "collapsed": false
   },
   "outputs": [
    {
     "data": {
      "text/plain": [
       "(9, 675324)"
      ]
     },
     "execution_count": 11,
     "metadata": {},
     "output_type": "execute_result"
    }
   ],
   "source": [
    "# for KA* we assume all the number plates were used \n",
    "# we expect  a value of 9 for kaa 009a and 675324 for kaz 999z\n",
    "get_vehicle_plate_value(\"Kaa 009a\"),get_vehicle_plate_value(\"Kaz 999z\")"
   ]
  },
  {
   "cell_type": "markdown",
   "metadata": {},
   "source": [
    "##### add a column for full plate "
   ]
  },
  {
   "cell_type": "code",
   "execution_count": 12,
   "metadata": {
    "collapsed": false
   },
   "outputs": [
    {
     "data": {
      "text/html": [
       "<div>\n",
       "<table border=\"1\" class=\"dataframe\">\n",
       "  <thead>\n",
       "    <tr style=\"text-align: right;\">\n",
       "      <th></th>\n",
       "      <th>Number Plate</th>\n",
       "      <th>Fleet Number</th>\n",
       "      <th>Full Plate</th>\n",
       "    </tr>\n",
       "  </thead>\n",
       "  <tbody>\n",
       "    <tr>\n",
       "      <th>0</th>\n",
       "      <td>KAR</td>\n",
       "      <td>834Z</td>\n",
       "      <td>KAR834Z</td>\n",
       "    </tr>\n",
       "    <tr>\n",
       "      <th>1</th>\n",
       "      <td>KAT</td>\n",
       "      <td>575Q</td>\n",
       "      <td>KAT575Q</td>\n",
       "    </tr>\n",
       "    <tr>\n",
       "      <th>2</th>\n",
       "      <td>KAV</td>\n",
       "      <td>625X</td>\n",
       "      <td>KAV625X</td>\n",
       "    </tr>\n",
       "    <tr>\n",
       "      <th>3</th>\n",
       "      <td>KAW</td>\n",
       "      <td>624G</td>\n",
       "      <td>KAW624G</td>\n",
       "    </tr>\n",
       "    <tr>\n",
       "      <th>4</th>\n",
       "      <td>KAX</td>\n",
       "      <td>693P</td>\n",
       "      <td>KAX693P</td>\n",
       "    </tr>\n",
       "  </tbody>\n",
       "</table>\n",
       "</div>"
      ],
      "text/plain": [
       "  Number Plate Fleet Number Full Plate\n",
       "0          KAR         834Z    KAR834Z\n",
       "1          KAT         575Q    KAT575Q\n",
       "2          KAV         625X    KAV625X\n",
       "3          KAW         624G    KAW624G\n",
       "4          KAX         693P    KAX693P"
      ]
     },
     "execution_count": 12,
     "metadata": {},
     "output_type": "execute_result"
    }
   ],
   "source": [
    "sorted_by_number_plates['Full Plate'] = sorted_by_number_plates['Number Plate'].astype(str) + sorted_by_number_plates['Fleet Number']\n",
    "\n",
    "sorted_by_number_plates.head()"
   ]
  },
  {
   "cell_type": "markdown",
   "metadata": {},
   "source": [
    "##### add a column for plate value "
   ]
  },
  {
   "cell_type": "code",
   "execution_count": 13,
   "metadata": {
    "collapsed": false
   },
   "outputs": [
    {
     "data": {
      "text/html": [
       "<div>\n",
       "<table border=\"1\" class=\"dataframe\">\n",
       "  <thead>\n",
       "    <tr style=\"text-align: right;\">\n",
       "      <th></th>\n",
       "      <th>Number Plate</th>\n",
       "      <th>Fleet Number</th>\n",
       "      <th>Full Plate</th>\n",
       "      <th>Plate Value</th>\n",
       "    </tr>\n",
       "  </thead>\n",
       "  <tbody>\n",
       "    <tr>\n",
       "      <th>0</th>\n",
       "      <td>KAR</td>\n",
       "      <td>834Z</td>\n",
       "      <td>KAR834Z</td>\n",
       "      <td>467367</td>\n",
       "    </tr>\n",
       "    <tr>\n",
       "      <th>1</th>\n",
       "      <td>KAT</td>\n",
       "      <td>575Q</td>\n",
       "      <td>KAT575Q</td>\n",
       "      <td>510065</td>\n",
       "    </tr>\n",
       "    <tr>\n",
       "      <th>2</th>\n",
       "      <td>KAV</td>\n",
       "      <td>625X</td>\n",
       "      <td>KAV625X</td>\n",
       "      <td>569056</td>\n",
       "    </tr>\n",
       "    <tr>\n",
       "      <th>3</th>\n",
       "      <td>KAW</td>\n",
       "      <td>624G</td>\n",
       "      <td>KAW624G</td>\n",
       "      <td>578046</td>\n",
       "    </tr>\n",
       "    <tr>\n",
       "      <th>4</th>\n",
       "      <td>KAX</td>\n",
       "      <td>693P</td>\n",
       "      <td>KAX693P</td>\n",
       "      <td>613080</td>\n",
       "    </tr>\n",
       "  </tbody>\n",
       "</table>\n",
       "</div>"
      ],
      "text/plain": [
       "  Number Plate Fleet Number Full Plate  Plate Value\n",
       "0          KAR         834Z    KAR834Z       467367\n",
       "1          KAT         575Q    KAT575Q       510065\n",
       "2          KAV         625X    KAV625X       569056\n",
       "3          KAW         624G    KAW624G       578046\n",
       "4          KAX         693P    KAX693P       613080"
      ]
     },
     "execution_count": 13,
     "metadata": {},
     "output_type": "execute_result"
    }
   ],
   "source": [
    "sorted_by_number_plates['Plate Value']=sorted_by_number_plates['Full Plate'].apply(get_vehicle_plate_value)\n",
    "sorted_by_number_plates.head()"
   ]
  },
  {
   "cell_type": "markdown",
   "metadata": {},
   "source": [
    "### we need to get the years each car was bought using the compound interest formula we can get time n \n",
    "```where n =Amount-1/Principle *log(1 + interest)```"
   ]
  },
  {
   "cell_type": "markdown",
   "metadata": {},
   "source": [
    "``` for KA plates we know principle to be cars_sold_in_1989  which is 34514```"
   ]
  },
  {
   "cell_type": "code",
   "execution_count": 14,
   "metadata": {
    "collapsed": false
   },
   "outputs": [],
   "source": [
    "def year_bought(plate_value,year_one_sales,percentage_increase,period_taken_to_sell_all_cars):\n",
    "        for i in range(period_taken_to_sell_all_cars):\n",
    "            cars_sold=year_one_sales*1.18**(i+1) -1\n",
    "            if cars_sold> plate_value:\n",
    "                return i+1"
   ]
  },
  {
   "cell_type": "markdown",
   "metadata": {
    "collapsed": true
   },
   "source": [
    "#### for KB->KC plates we assume the rate of buying was the same and to be completed it took 7 years "
   ]
  },
  {
   "cell_type": "code",
   "execution_count": 15,
   "metadata": {
    "collapsed": false
   },
   "outputs": [],
   "source": [
    "sorted_by_number_plates['Year Sold']= sorted_by_number_plates.apply(lambda x: year_bought(x['Plate Value'],40505,0.18,17) if( re.findall(\"KA[a-zA-Z]+\" ,x['Number Plate'],re.M | re.I)!=[]) else year_bought(x['Plate Value'],212001,0.18,7), axis=1)"
   ]
  },
  {
   "cell_type": "code",
   "execution_count": 16,
   "metadata": {
    "collapsed": false
   },
   "outputs": [
    {
     "data": {
      "text/html": [
       "<div>\n",
       "<table border=\"1\" class=\"dataframe\">\n",
       "  <thead>\n",
       "    <tr style=\"text-align: right;\">\n",
       "      <th></th>\n",
       "      <th>Full Plate</th>\n",
       "      <th>Plate Value</th>\n",
       "      <th>Year Sold</th>\n",
       "    </tr>\n",
       "  </thead>\n",
       "  <tbody>\n",
       "    <tr>\n",
       "      <th>0</th>\n",
       "      <td>KAR834Z</td>\n",
       "      <td>467367</td>\n",
       "      <td>15</td>\n",
       "    </tr>\n",
       "    <tr>\n",
       "      <th>1</th>\n",
       "      <td>KAT575Q</td>\n",
       "      <td>510065</td>\n",
       "      <td>16</td>\n",
       "    </tr>\n",
       "    <tr>\n",
       "      <th>2</th>\n",
       "      <td>KAV625X</td>\n",
       "      <td>569056</td>\n",
       "      <td>16</td>\n",
       "    </tr>\n",
       "    <tr>\n",
       "      <th>3</th>\n",
       "      <td>KAW624G</td>\n",
       "      <td>578046</td>\n",
       "      <td>17</td>\n",
       "    </tr>\n",
       "    <tr>\n",
       "      <th>4</th>\n",
       "      <td>KAX693P</td>\n",
       "      <td>613080</td>\n",
       "      <td>17</td>\n",
       "    </tr>\n",
       "  </tbody>\n",
       "</table>\n",
       "</div>"
      ],
      "text/plain": [
       "  Full Plate  Plate Value  Year Sold\n",
       "0    KAR834Z       467367         15\n",
       "1    KAT575Q       510065         16\n",
       "2    KAV625X       569056         16\n",
       "3    KAW624G       578046         17\n",
       "4    KAX693P       613080         17"
      ]
     },
     "execution_count": 16,
     "metadata": {},
     "output_type": "execute_result"
    }
   ],
   "source": [
    "sorted_by_number_plates[['Full Plate','Plate Value','Year Sold']].head()"
   ]
  },
  {
   "cell_type": "code",
   "execution_count": 17,
   "metadata": {
    "collapsed": false
   },
   "outputs": [],
   "source": [
    "df= sorted_by_number_plates.copy()"
   ]
  },
  {
   "cell_type": "code",
   "execution_count": 18,
   "metadata": {
    "collapsed": false
   },
   "outputs": [],
   "source": [
    "df= df.apply(lambda x: x if( re.findall(\"KC[a-zA-Z]+\" ,x['Number Plate'],re.M | re.I)==[]) else 8, axis=1)\n",
    "df=df.groupby(['Year Sold']).count()"
   ]
  },
  {
   "cell_type": "code",
   "execution_count": 19,
   "metadata": {
    "collapsed": false
   },
   "outputs": [
    {
     "data": {
      "text/plain": [
       "6"
      ]
     },
     "execution_count": 19,
     "metadata": {},
     "output_type": "execute_result"
    }
   ],
   "source": [
    "### since year one contains values for KC we subtract them\n",
    "len(k_c_cars)"
   ]
  },
  {
   "cell_type": "code",
   "execution_count": 20,
   "metadata": {
    "collapsed": false
   },
   "outputs": [],
   "source": [
    "# The dataframe contains KA* cars at the lower end hence we increase the index by 3 then slice the dataframe to get KA* vehicles\n",
    "\n",
    "# values which we stack at the front of the new dataframe\n",
    "df.index+=3"
   ]
  },
  {
   "cell_type": "code",
   "execution_count": 21,
   "metadata": {
    "collapsed": false
   },
   "outputs": [
    {
     "data": {
      "text/html": [
       "<div>\n",
       "<table border=\"1\" class=\"dataframe\">\n",
       "  <thead>\n",
       "    <tr style=\"text-align: right;\">\n",
       "      <th></th>\n",
       "      <th>Number Plate</th>\n",
       "      <th>Fleet Number</th>\n",
       "      <th>Full Plate</th>\n",
       "      <th>Plate Value</th>\n",
       "    </tr>\n",
       "  </thead>\n",
       "  <tbody>\n",
       "    <tr>\n",
       "      <th>4</th>\n",
       "      <td>8</td>\n",
       "      <td>8</td>\n",
       "      <td>8</td>\n",
       "      <td>8</td>\n",
       "    </tr>\n",
       "    <tr>\n",
       "      <th>5</th>\n",
       "      <td>3</td>\n",
       "      <td>3</td>\n",
       "      <td>3</td>\n",
       "      <td>3</td>\n",
       "    </tr>\n",
       "    <tr>\n",
       "      <th>6</th>\n",
       "      <td>2</td>\n",
       "      <td>2</td>\n",
       "      <td>2</td>\n",
       "      <td>2</td>\n",
       "    </tr>\n",
       "    <tr>\n",
       "      <th>7</th>\n",
       "      <td>5</td>\n",
       "      <td>5</td>\n",
       "      <td>5</td>\n",
       "      <td>5</td>\n",
       "    </tr>\n",
       "    <tr>\n",
       "      <th>8</th>\n",
       "      <td>8</td>\n",
       "      <td>8</td>\n",
       "      <td>8</td>\n",
       "      <td>8</td>\n",
       "    </tr>\n",
       "    <tr>\n",
       "      <th>9</th>\n",
       "      <td>8</td>\n",
       "      <td>8</td>\n",
       "      <td>8</td>\n",
       "      <td>8</td>\n",
       "    </tr>\n",
       "    <tr>\n",
       "      <th>10</th>\n",
       "      <td>11</td>\n",
       "      <td>11</td>\n",
       "      <td>11</td>\n",
       "      <td>11</td>\n",
       "    </tr>\n",
       "    <tr>\n",
       "      <th>11</th>\n",
       "      <td>6</td>\n",
       "      <td>6</td>\n",
       "      <td>6</td>\n",
       "      <td>6</td>\n",
       "    </tr>\n",
       "    <tr>\n",
       "      <th>18</th>\n",
       "      <td>1</td>\n",
       "      <td>1</td>\n",
       "      <td>1</td>\n",
       "      <td>1</td>\n",
       "    </tr>\n",
       "    <tr>\n",
       "      <th>19</th>\n",
       "      <td>2</td>\n",
       "      <td>2</td>\n",
       "      <td>2</td>\n",
       "      <td>2</td>\n",
       "    </tr>\n",
       "    <tr>\n",
       "      <th>20</th>\n",
       "      <td>6</td>\n",
       "      <td>6</td>\n",
       "      <td>6</td>\n",
       "      <td>6</td>\n",
       "    </tr>\n",
       "  </tbody>\n",
       "</table>\n",
       "</div>"
      ],
      "text/plain": [
       "    Number Plate  Fleet Number  Full Plate  Plate Value\n",
       "4              8             8           8            8\n",
       "5              3             3           3            3\n",
       "6              2             2           2            2\n",
       "7              5             5           5            5\n",
       "8              8             8           8            8\n",
       "9              8             8           8            8\n",
       "10            11            11          11           11\n",
       "11             6             6           6            6\n",
       "18             1             1           1            1\n",
       "19             2             2           2            2\n",
       "20             6             6           6            6"
      ]
     },
     "execution_count": 21,
     "metadata": {},
     "output_type": "execute_result"
    }
   ],
   "source": [
    "df"
   ]
  },
  {
   "cell_type": "code",
   "execution_count": 22,
   "metadata": {
    "collapsed": false
   },
   "outputs": [],
   "source": [
    "ka_count=df.iloc[-3:]"
   ]
  },
  {
   "cell_type": "code",
   "execution_count": 23,
   "metadata": {
    "collapsed": true
   },
   "outputs": [],
   "source": [
    "ka_count.index-=17"
   ]
  },
  {
   "cell_type": "code",
   "execution_count": 24,
   "metadata": {
    "collapsed": false
   },
   "outputs": [
    {
     "data": {
      "text/html": [
       "<div>\n",
       "<table border=\"1\" class=\"dataframe\">\n",
       "  <thead>\n",
       "    <tr style=\"text-align: right;\">\n",
       "      <th></th>\n",
       "      <th>Number Plate</th>\n",
       "      <th>Fleet Number</th>\n",
       "      <th>Full Plate</th>\n",
       "      <th>Plate Value</th>\n",
       "    </tr>\n",
       "  </thead>\n",
       "  <tbody>\n",
       "    <tr>\n",
       "      <th>1</th>\n",
       "      <td>1</td>\n",
       "      <td>1</td>\n",
       "      <td>1</td>\n",
       "      <td>1</td>\n",
       "    </tr>\n",
       "    <tr>\n",
       "      <th>2</th>\n",
       "      <td>2</td>\n",
       "      <td>2</td>\n",
       "      <td>2</td>\n",
       "      <td>2</td>\n",
       "    </tr>\n",
       "    <tr>\n",
       "      <th>3</th>\n",
       "      <td>6</td>\n",
       "      <td>6</td>\n",
       "      <td>6</td>\n",
       "      <td>6</td>\n",
       "    </tr>\n",
       "  </tbody>\n",
       "</table>\n",
       "</div>"
      ],
      "text/plain": [
       "   Number Plate  Fleet Number  Full Plate  Plate Value\n",
       "1             1             1           1            1\n",
       "2             2             2           2            2\n",
       "3             6             6           6            6"
      ]
     },
     "execution_count": 24,
     "metadata": {},
     "output_type": "execute_result"
    }
   ],
   "source": [
    "ka_count"
   ]
  },
  {
   "cell_type": "code",
   "execution_count": 25,
   "metadata": {
    "collapsed": true
   },
   "outputs": [],
   "source": [
    "kb_kc_count=df.iloc[:-3]"
   ]
  },
  {
   "cell_type": "code",
   "execution_count": 26,
   "metadata": {
    "collapsed": false
   },
   "outputs": [
    {
     "data": {
      "text/html": [
       "<div>\n",
       "<table border=\"1\" class=\"dataframe\">\n",
       "  <thead>\n",
       "    <tr style=\"text-align: right;\">\n",
       "      <th></th>\n",
       "      <th>Number Plate</th>\n",
       "      <th>Fleet Number</th>\n",
       "      <th>Full Plate</th>\n",
       "      <th>Plate Value</th>\n",
       "    </tr>\n",
       "  </thead>\n",
       "  <tbody>\n",
       "    <tr>\n",
       "      <th>4</th>\n",
       "      <td>8</td>\n",
       "      <td>8</td>\n",
       "      <td>8</td>\n",
       "      <td>8</td>\n",
       "    </tr>\n",
       "    <tr>\n",
       "      <th>5</th>\n",
       "      <td>3</td>\n",
       "      <td>3</td>\n",
       "      <td>3</td>\n",
       "      <td>3</td>\n",
       "    </tr>\n",
       "    <tr>\n",
       "      <th>6</th>\n",
       "      <td>2</td>\n",
       "      <td>2</td>\n",
       "      <td>2</td>\n",
       "      <td>2</td>\n",
       "    </tr>\n",
       "    <tr>\n",
       "      <th>7</th>\n",
       "      <td>5</td>\n",
       "      <td>5</td>\n",
       "      <td>5</td>\n",
       "      <td>5</td>\n",
       "    </tr>\n",
       "    <tr>\n",
       "      <th>8</th>\n",
       "      <td>8</td>\n",
       "      <td>8</td>\n",
       "      <td>8</td>\n",
       "      <td>8</td>\n",
       "    </tr>\n",
       "    <tr>\n",
       "      <th>9</th>\n",
       "      <td>8</td>\n",
       "      <td>8</td>\n",
       "      <td>8</td>\n",
       "      <td>8</td>\n",
       "    </tr>\n",
       "    <tr>\n",
       "      <th>10</th>\n",
       "      <td>11</td>\n",
       "      <td>11</td>\n",
       "      <td>11</td>\n",
       "      <td>11</td>\n",
       "    </tr>\n",
       "    <tr>\n",
       "      <th>11</th>\n",
       "      <td>6</td>\n",
       "      <td>6</td>\n",
       "      <td>6</td>\n",
       "      <td>6</td>\n",
       "    </tr>\n",
       "  </tbody>\n",
       "</table>\n",
       "</div>"
      ],
      "text/plain": [
       "    Number Plate  Fleet Number  Full Plate  Plate Value\n",
       "4              8             8           8            8\n",
       "5              3             3           3            3\n",
       "6              2             2           2            2\n",
       "7              5             5           5            5\n",
       "8              8             8           8            8\n",
       "9              8             8           8            8\n",
       "10            11            11          11           11\n",
       "11             6             6           6            6"
      ]
     },
     "execution_count": 26,
     "metadata": {},
     "output_type": "execute_result"
    }
   ],
   "source": [
    "kb_kc_count"
   ]
  },
  {
   "cell_type": "code",
   "execution_count": 27,
   "metadata": {
    "collapsed": false
   },
   "outputs": [
    {
     "data": {
      "text/html": [
       "<div>\n",
       "<table border=\"1\" class=\"dataframe\">\n",
       "  <thead>\n",
       "    <tr style=\"text-align: right;\">\n",
       "      <th></th>\n",
       "      <th>Number Plate</th>\n",
       "      <th>Fleet Number</th>\n",
       "      <th>Full Plate</th>\n",
       "      <th>Plate Value</th>\n",
       "    </tr>\n",
       "  </thead>\n",
       "  <tbody>\n",
       "    <tr>\n",
       "      <th>1</th>\n",
       "      <td>1</td>\n",
       "      <td>1</td>\n",
       "      <td>1</td>\n",
       "      <td>1</td>\n",
       "    </tr>\n",
       "    <tr>\n",
       "      <th>2</th>\n",
       "      <td>2</td>\n",
       "      <td>2</td>\n",
       "      <td>2</td>\n",
       "      <td>2</td>\n",
       "    </tr>\n",
       "    <tr>\n",
       "      <th>3</th>\n",
       "      <td>6</td>\n",
       "      <td>6</td>\n",
       "      <td>6</td>\n",
       "      <td>6</td>\n",
       "    </tr>\n",
       "    <tr>\n",
       "      <th>4</th>\n",
       "      <td>8</td>\n",
       "      <td>8</td>\n",
       "      <td>8</td>\n",
       "      <td>8</td>\n",
       "    </tr>\n",
       "    <tr>\n",
       "      <th>5</th>\n",
       "      <td>3</td>\n",
       "      <td>3</td>\n",
       "      <td>3</td>\n",
       "      <td>3</td>\n",
       "    </tr>\n",
       "    <tr>\n",
       "      <th>6</th>\n",
       "      <td>2</td>\n",
       "      <td>2</td>\n",
       "      <td>2</td>\n",
       "      <td>2</td>\n",
       "    </tr>\n",
       "    <tr>\n",
       "      <th>7</th>\n",
       "      <td>5</td>\n",
       "      <td>5</td>\n",
       "      <td>5</td>\n",
       "      <td>5</td>\n",
       "    </tr>\n",
       "    <tr>\n",
       "      <th>8</th>\n",
       "      <td>8</td>\n",
       "      <td>8</td>\n",
       "      <td>8</td>\n",
       "      <td>8</td>\n",
       "    </tr>\n",
       "    <tr>\n",
       "      <th>9</th>\n",
       "      <td>8</td>\n",
       "      <td>8</td>\n",
       "      <td>8</td>\n",
       "      <td>8</td>\n",
       "    </tr>\n",
       "    <tr>\n",
       "      <th>10</th>\n",
       "      <td>11</td>\n",
       "      <td>11</td>\n",
       "      <td>11</td>\n",
       "      <td>11</td>\n",
       "    </tr>\n",
       "    <tr>\n",
       "      <th>11</th>\n",
       "      <td>6</td>\n",
       "      <td>6</td>\n",
       "      <td>6</td>\n",
       "      <td>6</td>\n",
       "    </tr>\n",
       "  </tbody>\n",
       "</table>\n",
       "</div>"
      ],
      "text/plain": [
       "    Number Plate  Fleet Number  Full Plate  Plate Value\n",
       "1              1             1           1            1\n",
       "2              2             2           2            2\n",
       "3              6             6           6            6\n",
       "4              8             8           8            8\n",
       "5              3             3           3            3\n",
       "6              2             2           2            2\n",
       "7              5             5           5            5\n",
       "8              8             8           8            8\n",
       "9              8             8           8            8\n",
       "10            11            11          11           11\n",
       "11             6             6           6            6"
      ]
     },
     "execution_count": 27,
     "metadata": {},
     "output_type": "execute_result"
    }
   ],
   "source": [
    "# create a new dataframe with KA* followed by kb then kc\n",
    "sorted_data_frame=pd.concat([ka_count,kb_kc_count])\n",
    "sorted_data_frame"
   ]
  },
  {
   "cell_type": "code",
   "execution_count": 28,
   "metadata": {
    "collapsed": true
   },
   "outputs": [],
   "source": [
    "# we drop all the other columns and remain with the number of cars sold per year\n",
    "sorted_data_frame.drop(['Fleet Number','Full Plate','Plate Value'],inplace=True,axis=1)"
   ]
  },
  {
   "cell_type": "code",
   "execution_count": 36,
   "metadata": {
    "collapsed": false
   },
   "outputs": [],
   "source": [
    "sorted_data_frame=sorted_data_frame.rename(columns = {'Number Plate':'Cars Sold'})"
   ]
  },
  {
   "cell_type": "code",
   "execution_count": 37,
   "metadata": {
    "collapsed": false
   },
   "outputs": [
    {
     "data": {
      "text/plain": [
       "<matplotlib.axes._subplots.AxesSubplot at 0x1d4c65dbf98>"
      ]
     },
     "execution_count": 37,
     "metadata": {},
     "output_type": "execute_result"
    },
    {
     "data": {
      "image/png": "[encoded data removed]",
      "text/plain": [
       "<matplotlib.figure.Figure at 0x1d4c65db4e0>"
      ]
     },
     "metadata": {},
     "output_type": "display_data"
    }
   ],
   "source": [
    "#plot the graph of purchases with year\n",
    "fig, ax = plt.subplots(figsize=(12, 8))\n",
    "sorted_data_frame.plot(ax=ax)"
   ]
  },
  {
   "cell_type": "markdown",
   "metadata": {},
   "source": [
    "#### prepare the dataset for an rnn network and train the network\n",
    " <img src=\"data/network.png\">"
   ]
  },
  {
   "cell_type": "code",
   "execution_count": 38,
   "metadata": {
    "collapsed": false
   },
   "outputs": [
    {
     "name": "stderr",
     "output_type": "stream",
     "text": [
      "C:\\Users\\NDIRANGU\\Anaconda3\\envs\\py35\\lib\\site-packages\\numpy\\core\\fromnumeric.py:57: FutureWarning: reshape is deprecated and will raise in a subsequent release. Please use .values.reshape(...) instead\n",
      "  return getattr(obj, method)(*args, **kwds)\n"
     ]
    }
   ],
   "source": [
    "dataset= sorted_data_frame.copy()\n",
    "dataset['Years']=dataset.index\n",
    "\n",
    "# split into train and test sets\n",
    "X_train, X_test, y_train, y_test = train_test_split( dataset['Years'], dataset['Cars Sold'], test_size=0.20)\n",
    "\n",
    "#reshape input to be [samples, time steps, features]\n",
    "x_train = np.reshape(X_train, (X_train.shape[0], 1,1))\n",
    "x_test = np.reshape(X_test, (X_test.shape[0], 1,1))\n",
    "#create and fit the LSTM network\n",
    "model = Sequential()\n",
    "model.add(LSTM(4, input_shape=(1, 1)))\n",
    "model.add(Dense(1))\n",
    "model.compile(loss='mean_squared_error', optimizer='adam')\n",
    "model.fit(x_train, y_train, epochs=1000, batch_size=1, verbose=0)\n",
    "#make predictions\n",
    "trainPredict = model.predict(x_train)\n",
    "testPredict = model.predict(x_test)"
   ]
  },
  {
   "cell_type": "code",
   "execution_count": 32,
   "metadata": {
    "collapsed": false
   },
   "outputs": [
    {
     "data": {
      "text/plain": [
       "<matplotlib.legend.Legend at 0x1d4c644b198>"
      ]
     },
     "execution_count": 32,
     "metadata": {},
     "output_type": "execute_result"
    },
    {
     "data": {
      "image/png": "[encoded data removed]",
      "text/plain": [
       "<matplotlib.figure.Figure at 0x1d4c46ada20>"
      ]
     },
     "metadata": {},
     "output_type": "display_data"
    }
   ],
   "source": [
    "# Due to the small data it's hard to estimate collectly hence the \n",
    "fig, ax = plt.subplots(figsize=(12, 8))\n",
    "plt.plot(X_test,y_test,label=\"Test data\")\n",
    "plt.plot(X_test,testPredict,label=\"Predicted \")\n",
    "plt.legend(bbox_to_anchor=(1.05, 1), loc=2, borderaxespad=0.)"
   ]
  },
  {
   "cell_type": "markdown",
   "metadata": {},
   "source": [
    "### Predict next years vehicles to be added to fleet"
   ]
  },
  {
   "cell_type": "code",
   "execution_count": 33,
   "metadata": {
    "collapsed": false
   },
   "outputs": [],
   "source": [
    "next_year=np.reshape([12], (1, 1,1))\n"
   ]
  },
  {
   "cell_type": "code",
   "execution_count": 34,
   "metadata": {
    "collapsed": false
   },
   "outputs": [
    {
     "data": {
      "text/plain": [
       "array([[ 7.782691]], dtype=float32)"
      ]
     },
     "execution_count": 34,
     "metadata": {},
     "output_type": "execute_result"
    }
   ],
   "source": [
    "model.predict(next_year)"
   ]
  },
  {
   "cell_type": "markdown",
   "metadata": {},
   "source": [
    "### The model predicts around 8 cars to be added"
   ]
  },
  {
   "cell_type": "code",
   "execution_count": null,
   "metadata": {
    "collapsed": false
   },
   "outputs": [],
   "source": []
  },
  {
   "cell_type": "code",
   "execution_count": null,
   "metadata": {
    "collapsed": true
   },
   "outputs": [],
   "source": []
  }
 ],
 "metadata": {
  "kernelspec": {
   "display_name": "Python 3",
   "language": "python",
   "name": "python3"
  },
  "language_info": {
   "codemirror_mode": {
    "name": "ipython",
    "version": 3
   },
   "file_extension": ".py",
   "mimetype": "text/x-python",
   "name": "python",
   "nbconvert_exporter": "python",
   "pygments_lexer": "ipython3",
   "version": "3.5.2"
  }
 },
 "nbformat": 4,
 "nbformat_minor": 2
}
